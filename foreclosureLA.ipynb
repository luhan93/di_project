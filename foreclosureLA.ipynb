{
 "cells": [
  {
   "cell_type": "code",
   "execution_count": 1,
   "metadata": {},
   "outputs": [],
   "source": [
    "import pandas as pd\n",
    "import numpy as np\n",
    "import matplotlib.pyplot as plt\n",
    "import seaborn as sns\n",
    "import json"
   ]
  },
  {
   "cell_type": "markdown",
   "metadata": {},
   "source": [
    "I downloaded the LA foreclosure datasets from 2017 to 2020.\n",
    "I merged the four dataframes and extracted the longitude and latitude. Since the formats are slighly different among the four datasets, I had to swap the latitude and longitude for part of the data.\n",
    "Then I grouped the data by zip code and time to generate the two plots."
   ]
  },
  {
   "cell_type": "code",
   "execution_count": 2,
   "metadata": {},
   "outputs": [
    {
     "name": "stderr",
     "output_type": "stream",
     "text": [
      "/Users/luhan/anaconda3/lib/python3.7/site-packages/ipykernel_launcher.py:3: FutureWarning: Sorting because non-concatenation axis is not aligned. A future version\n",
      "of pandas will change to not sort by default.\n",
      "\n",
      "To accept the future behavior, pass 'sort=False'.\n",
      "\n",
      "To retain the current behavior and silence the warning, pass 'sort=True'.\n",
      "\n",
      "  This is separate from the ipykernel package so we can avoid doing imports until\n",
      "/Users/luhan/anaconda3/lib/python3.7/site-packages/ipykernel_launcher.py:6: SettingWithCopyWarning: \n",
      "A value is trying to be set on a copy of a slice from a DataFrame.\n",
      "Try using .loc[row_indexer,col_indexer] = value instead\n",
      "\n",
      "See the caveats in the documentation: http://pandas.pydata.org/pandas-docs/stable/indexing.html#indexing-view-versus-copy\n",
      "  \n",
      "/Users/luhan/anaconda3/lib/python3.7/site-packages/ipykernel_launcher.py:7: SettingWithCopyWarning: \n",
      "A value is trying to be set on a copy of a slice from a DataFrame.\n",
      "Try using .loc[row_indexer,col_indexer] = value instead\n",
      "\n",
      "See the caveats in the documentation: http://pandas.pydata.org/pandas-docs/stable/indexing.html#indexing-view-versus-copy\n",
      "  import sys\n",
      "/Users/luhan/anaconda3/lib/python3.7/site-packages/pandas/core/indexing.py:543: SettingWithCopyWarning: \n",
      "A value is trying to be set on a copy of a slice from a DataFrame.\n",
      "Try using .loc[row_indexer,col_indexer] = value instead\n",
      "\n",
      "See the caveats in the documentation: http://pandas.pydata.org/pandas-docs/stable/indexing.html#indexing-view-versus-copy\n",
      "  self.obj[item] = s\n"
     ]
    }
   ],
   "source": [
    "file_name = '{}_Registered_Foreclosure_Properties.csv'\n",
    "study_years = range(2017, 2021)\n",
    "df = pd.concat([pd.read_csv(file_name.format(i),index_col = \"APN\") for i in study_years])\n",
    "fc = df[['Property Zip','Registered Date','Property on Map','Property Address']]\n",
    "loc = fc['Property on Map'].str.split(pat=\"\\(|\\)\",expand=True)[1].str.split(pat=\"\\,|\\ \",expand=True)\n",
    "fc[\"lon\"] = pd.to_numeric(loc[0])\n",
    "fc[\"lat\"] = pd.to_numeric(loc[1])\n",
    "fc.loc[fc['lon']>0,'lat'] = fc[fc['lon']>0]['lon']\n",
    "fc.loc[fc['lon']>0,'lon'] = pd.to_numeric(loc[2])[fc['lon']>0]\n",
    "fc = fc[np.isfinite(fc['lat'])]\n",
    "fc = fc[np.isfinite(fc['Property Zip'])]\n",
    "fc.loc[:,\"Property Zip\"] = fc['Property Zip'].apply(np.int64).astype('str')"
   ]
  },
  {
   "cell_type": "markdown",
   "metadata": {},
   "source": [
    "### Fig. 1: Total number of foreclosures across LA 2017-2020. The data here are grouped by zipcode. Multiple factors (e.g. population, average salary, unemplyment rate, crime, etc) could contribute to the regional difference of foreclosures, which provide some guidance to further pursue this project. \n",
    "The figure is an interactive map saved as \"Total_Number_of_Foreclosure_map.html\""
   ]
  },
  {
   "cell_type": "code",
   "execution_count": 3,
   "metadata": {},
   "outputs": [
    {
     "data": {
      "text/plain": [
       "1925093"
      ]
     },
     "execution_count": 3,
     "metadata": {},
     "output_type": "execute_result"
    }
   ],
   "source": [
    "# load GeoJSON\n",
    "with open('zip-code-tabulation-areas-2012.geojson', 'r') as jsonFile:\n",
    "    data = json.load(jsonFile)\n",
    "tmp = data\n",
    "\n",
    "# remove ZIP codes not in our dataset\n",
    "geozips = []\n",
    "for i in range(len(tmp['features'])):\n",
    "    if tmp['features'][i]['properties']['name'] in list(fc['Property Zip'].unique()):\n",
    "        geozips.append(tmp['features'][i])\n",
    "\n",
    "# creating new JSON object\n",
    "new_json = dict.fromkeys(['type','features'])\n",
    "new_json['type'] = 'FeatureCollection'\n",
    "new_json['features'] = geozips\n",
    "\n",
    "# save JSON object as updated-file\n",
    "open(\"updated-file.json\", \"w\").write(\n",
    "    json.dumps(new_json, sort_keys=True, indent=4, separators=(',', ': '))\n",
    ")"
   ]
  },
  {
   "cell_type": "code",
   "execution_count": 4,
   "metadata": {},
   "outputs": [],
   "source": [
    "import folium\n",
    "# table = main table/data frame we read from (pandas DataFrame)\n",
    "# zips = column name where ZIP codes are (string)\n",
    "# mapped_feature = column name for feature we want to visualize (string)\n",
    "# add_text = any additional commentary to be added in the map legend (string)\n",
    "def create_map(table, zips, mapped_feature, add_text = ''):\n",
    "    # reading of the updated GeoJSON file\n",
    "    la_geo = r'updated-file.json'\n",
    "    # initiating a Folium map with LA's longitude and latitude\n",
    "    m = folium.Map(location = [34.0522, -118.2437], zoom_start = 11)\n",
    "    # creating a choropleth map\n",
    "    m.choropleth(\n",
    "        geo_data = la_geo,\n",
    "        fill_opacity = 0.7,\n",
    "        line_opacity = 0.2,\n",
    "        data = table,\n",
    "        # refers to which key within the GeoJSON to map the ZIP code to\n",
    "        key_on = 'feature.properties.name',\n",
    "        # first element contains location information, second element contains feature of interest\n",
    "        columns = [zips, mapped_feature],\n",
    "        fill_color = 'RdYlGn',\n",
    "        legend_name = (' ').join(mapped_feature.split('_')).title() + ' ' + add_text + ' Across LA'\n",
    "    )\n",
    "    folium.LayerControl().add_to(m)\n",
    "    # save map with filename based on the feature of interest\n",
    "    m.save(outfile = mapped_feature + '_map.html')"
   ]
  },
  {
   "cell_type": "code",
   "execution_count": 5,
   "metadata": {},
   "outputs": [
    {
     "name": "stderr",
     "output_type": "stream",
     "text": [
      "/Users/luhan/anaconda3/lib/python3.7/site-packages/folium/folium.py:415: FutureWarning: The choropleth  method has been deprecated. Instead use the new Choropleth class, which has the same arguments. See the example notebook 'GeoJSON_and_choropleth' for how to do this.\n",
      "  FutureWarning\n"
     ]
    }
   ],
   "source": [
    "tol_fc = fc.groupby('Property Zip').size().rename('Total_Number_of_Foreclosure')\n",
    "create_map(tol_fc, 'Property Zip', 'Totoal_Number_of_Foreclosure', '2017~2020')\n"
   ]
  },
  {
   "cell_type": "markdown",
   "metadata": {},
   "source": [
    "### Fig 2: Number of foreclosures in LA in different months from 2017 to 2020. In Jan ~ April, the number of foreclosures are much higher in 2020 compared to the other three years, suggesting Covid-19 could be another important factor. However, in May ~ September, the number of foreclosures are slightly lower in 2020 compared to the earlier years, possibly due to the CARES Act Mortgage Forbearance. This suggests that policy impact on housing market should also be considered."
   ]
  },
  {
   "cell_type": "code",
   "execution_count": 6,
   "metadata": {},
   "outputs": [],
   "source": [
    "fc['month'] = fc[\"Registered Date\"].apply(pd.to_datetime, errors='coerce').dt.to_period('M')"
   ]
  },
  {
   "cell_type": "code",
   "execution_count": 7,
   "metadata": {},
   "outputs": [],
   "source": [
    "ts = fc.groupby(\"month\").size().reset_index()\n",
    "ts.columns = ['m', 'Number of Foreclosures']"
   ]
  },
  {
   "cell_type": "code",
   "execution_count": 8,
   "metadata": {},
   "outputs": [],
   "source": [
    "ts['Month'] = ts['m'].dt.month\n",
    "ts['Year'] = ts['m'].dt.year"
   ]
  },
  {
   "cell_type": "code",
   "execution_count": 9,
   "metadata": {},
   "outputs": [
    {
     "data": {
      "image/png": "[encoded data removed]",
      "text/plain": [
       "<Figure size 864x648 with 12 Axes>"
      ]
     },
     "metadata": {
      "needs_background": "light"
     },
     "output_type": "display_data"
    }
   ],
   "source": [
    "g = sns.FacetGrid(ts, col=\"Month\", hue=\"Year\", col_wrap=4, height=3,sharey=False)\n",
    "g.map(sns.barplot, \"Year\", \"Number of Foreclosures\", order=[2017,2018,2019,2020])\n",
    "g.savefig(\"foreclosures_each_year.png\")"
   ]
  }
 ],
 "metadata": {
  "kernelspec": {
   "display_name": "Python 3",
   "language": "python",
   "name": "python3"
  },
  "language_info": {
   "codemirror_mode": {
    "name": "ipython",
    "version": 3
   },
   "file_extension": ".py",
   "mimetype": "text/x-python",
   "name": "python",
   "nbconvert_exporter": "python",
   "pygments_lexer": "ipython3",
   "version": "3.7.3"
  }
 },
 "nbformat": 4,
 "nbformat_minor": 2
}
